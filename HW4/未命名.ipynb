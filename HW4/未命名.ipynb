{
 "cells": [
  {
   "cell_type": "code",
   "execution_count": 14,
   "metadata": {},
   "outputs": [],
   "source": [
    "library(tensorflow)\n",
    "library(keras)"
   ]
  },
  {
   "cell_type": "code",
   "execution_count": 16,
   "metadata": {},
   "outputs": [
    {
     "ename": "ERROR",
     "evalue": "Error in use_condaenv(\"keras-tf\", required = T): Unable to locate conda environment 'keras-tf'.\n",
     "output_type": "error",
     "traceback": [
      "Error in use_condaenv(\"keras-tf\", required = T): Unable to locate conda environment 'keras-tf'.\nTraceback:\n",
      "1. use_condaenv(\"keras-tf\", required = T)",
      "2. stop(\"Unable to locate conda environment '\", condaenv, \"'.\")"
     ]
    }
   ],
   "source": [
    "use_condaenv(\"keras-tf\", required = T)"
   ]
  },
  {
   "cell_type": "code",
   "execution_count": 15,
   "metadata": {},
   "outputs": [
    {
     "name": "stdout",
     "output_type": "stream",
     "text": [
      "List of 20\n",
      " $ python              : chr \"/Users/ShuyanLi/anaconda3/bin/python3\"\n",
      " $ libpython           : chr \"/Users/ShuyanLi/anaconda3/lib/libpython3.7m.dylib\"\n",
      " $ pythonhome          : chr \"/Users/ShuyanLi/anaconda3:/Users/ShuyanLi/anaconda3\"\n",
      " $ pythonpath          : chr \"/Users/ShuyanLi/anaconda3/lib/python37.zip:/Users/ShuyanLi/anaconda3/lib/python3.7:/Users/ShuyanLi/anaconda3/li\"| __truncated__\n",
      " $ prefix              : chr \"/Users/ShuyanLi/anaconda3\"\n",
      " $ exec_prefix         : chr \"/Users/ShuyanLi/anaconda3\"\n",
      " $ base_exec_prefix    : chr \"/Users/ShuyanLi/anaconda3\"\n",
      " $ virtualenv          : chr \"\"\n",
      " $ virtualenv_activate : chr \"\"\n",
      " $ version_string      : chr \"3.7.3 (default, Mar 27 2019, 16:54:48)  [Clang 4.0.1 (tags/RELEASE_401/final)]\"\n",
      " $ version             : chr \"3.7\"\n",
      " $ architecture        : chr \"64bit\"\n",
      " $ anaconda            : logi FALSE\n",
      " $ conda               : logi FALSE\n",
      " $ numpy               :List of 2\n",
      "  ..$ path   : chr \"/Users/ShuyanLi/anaconda3/lib/python3.7/site-packages/numpy\"\n",
      "  ..$ version:Class 'numeric_version'  hidden list of 1\n",
      "  .. ..$ : int [1:3] 1 21 5\n",
      " $ required_module     : chr \"tensorflow\"\n",
      " $ required_module_path: chr \"/Users/ShuyanLi/anaconda3/lib/python3.7/site-packages/tensorflow\"\n",
      " $ available           : logi TRUE\n",
      " $ python_versions     : chr [1:2] \"/Users/ShuyanLi/anaconda3/bin/python3\" \"/Users/ShuyanLi/anaconda3/bin/python\"\n",
      " $ forced              : NULL\n",
      " - attr(*, \"class\")= chr \"py_config\"\n"
     ]
    },
    {
     "ename": "ERROR",
     "evalue": "Error: Python module tensorflow.keras was not found.\n\nDetected Python configuration:\n\n\n\n",
     "output_type": "error",
     "traceback": [
      "Error: Python module tensorflow.keras was not found.\n\nDetected Python configuration:\n\n\n\nTraceback:\n",
      "1. dataset_fashion_mnist()",
      "2. keras$datasets",
      "3. `$.python.builtin.module`(keras, \"datasets\")",
      "4. py_resolve_module_proxy(x)",
      "5. stop(message, call. = FALSE)"
     ]
    }
   ],
   "source": [
    "\n",
    "fashion_mnist <- dataset_fashion_mnist()"
   ]
  },
  {
   "cell_type": "code",
   "execution_count": 3,
   "metadata": {},
   "outputs": [
    {
     "name": "stderr",
     "output_type": "stream",
     "text": [
      "── \u001b[1mAttaching packages\u001b[22m ─────────────────────────────────────── tidyverse 1.3.1 ──\n",
      "\n",
      "\u001b[32m✔\u001b[39m \u001b[34mggplot2\u001b[39m 3.3.5     \u001b[32m✔\u001b[39m \u001b[34mpurrr  \u001b[39m 0.3.4\n",
      "\u001b[32m✔\u001b[39m \u001b[34mtibble \u001b[39m 3.1.6     \u001b[32m✔\u001b[39m \u001b[34mdplyr  \u001b[39m 1.0.7\n",
      "\u001b[32m✔\u001b[39m \u001b[34mtidyr  \u001b[39m 1.1.4     \u001b[32m✔\u001b[39m \u001b[34mstringr\u001b[39m 1.4.0\n",
      "\u001b[32m✔\u001b[39m \u001b[34mreadr  \u001b[39m 2.0.1     \u001b[32m✔\u001b[39m \u001b[34mforcats\u001b[39m 0.5.1\n",
      "\n",
      "── \u001b[1mConflicts\u001b[22m ────────────────────────────────────────── tidyverse_conflicts() ──\n",
      "\u001b[31m✖\u001b[39m \u001b[34mdplyr\u001b[39m::\u001b[32mfilter()\u001b[39m masks \u001b[34mstats\u001b[39m::filter()\n",
      "\u001b[31m✖\u001b[39m \u001b[34mdplyr\u001b[39m::\u001b[32mlag()\u001b[39m    masks \u001b[34mstats\u001b[39m::lag()\n",
      "\n"
     ]
    }
   ],
   "source": [
    "library(tidyverse)"
   ]
  },
  {
   "cell_type": "code",
   "execution_count": 4,
   "metadata": {},
   "outputs": [],
   "source": [
    "# Load MNIST data\n",
    "load(\"mnist.RData\")"
   ]
  },
  {
   "cell_type": "code",
   "execution_count": 5,
   "metadata": {},
   "outputs": [
    {
     "name": "stdout",
     "output_type": "stream",
     "text": [
      "List of 20\n",
      " $ python              : chr \"/Users/ShuyanLi/anaconda3/bin/python3\"\n",
      " $ libpython           : chr \"/Users/ShuyanLi/anaconda3/lib/libpython3.7m.dylib\"\n",
      " $ pythonhome          : chr \"/Users/ShuyanLi/anaconda3:/Users/ShuyanLi/anaconda3\"\n",
      " $ pythonpath          : chr \"/Users/ShuyanLi/anaconda3/lib/python37.zip:/Users/ShuyanLi/anaconda3/lib/python3.7:/Users/ShuyanLi/anaconda3/li\"| __truncated__\n",
      " $ prefix              : chr \"/Users/ShuyanLi/anaconda3\"\n",
      " $ exec_prefix         : chr \"/Users/ShuyanLi/anaconda3\"\n",
      " $ base_exec_prefix    : chr \"/Users/ShuyanLi/anaconda3\"\n",
      " $ virtualenv          : chr \"\"\n",
      " $ virtualenv_activate : chr \"\"\n",
      " $ version_string      : chr \"3.7.3 (default, Mar 27 2019, 16:54:48)  [Clang 4.0.1 (tags/RELEASE_401/final)]\"\n",
      " $ version             : chr \"3.7\"\n",
      " $ architecture        : chr \"64bit\"\n",
      " $ anaconda            : logi FALSE\n",
      " $ conda               : logi FALSE\n",
      " $ numpy               :List of 2\n",
      "  ..$ path   : chr \"/Users/ShuyanLi/anaconda3/lib/python3.7/site-packages/numpy\"\n",
      "  ..$ version:Class 'numeric_version'  hidden list of 1\n",
      "  .. ..$ : int [1:3] 1 21 5\n",
      " $ required_module     : chr \"tensorflow\"\n",
      " $ required_module_path: chr \"/Users/ShuyanLi/anaconda3/lib/python3.7/site-packages/tensorflow\"\n",
      " $ available           : logi TRUE\n",
      " $ python_versions     : chr [1:2] \"/Users/ShuyanLi/anaconda3/bin/python3\" \"/Users/ShuyanLi/anaconda3/bin/python\"\n",
      " $ forced              : NULL\n",
      " - attr(*, \"class\")= chr \"py_config\"\n"
     ]
    },
    {
     "ename": "ERROR",
     "evalue": "Error: Python module tensorflow.keras was not found.\n\nDetected Python configuration:\n\n\n\n",
     "output_type": "error",
     "traceback": [
      "Error: Python module tensorflow.keras was not found.\n\nDetected Python configuration:\n\n\n\nTraceback:\n",
      "1. keras_model_sequential()",
      "2. keras$models",
      "3. `$.python.builtin.module`(keras, \"models\")",
      "4. py_resolve_module_proxy(x)",
      "5. stop(message, call. = FALSE)"
     ]
    }
   ],
   "source": [
    "validation_index <- c(1:2000)\n",
    "model_mlp <- keras_model_sequential()\n",
    "model_mlp %>%\n",
    "    layer_flatten(input_shape = c(28, 28)) %>%\n",
    "    layer_dense(units = 128, activation = \"relu\") %>%\n",
    "    layer_dense(units = 10, activation = \"softmax\")\n",
    "model_mlp %>% compile(\n",
    "    optimizer = \"adam\",\n",
    "    loss = \"sparse_categorical_crossentropy\",\n",
    "    metrics = c(\"accuracy\")\n",
    ")\n",
    "metrics <- (model_mlp %>% fit(x_train[-validation_index,,], y_train[-validation_index],\n",
    "    batch_size=32,\n",
    "    validation_data=list(x_train[validation_index,,], y_train[validation_index])\n",
    "))$metrics\n",
    "valid_acc1 <- metrics$val_accuracy"
   ]
  },
  {
   "cell_type": "code",
   "execution_count": 7,
   "metadata": {},
   "outputs": [
    {
     "ename": "ERROR",
     "evalue": "Error in readRDS(dest): 读取链结时发生了错误\n",
     "output_type": "error",
     "traceback": [
      "Error in readRDS(dest): 读取链结时发生了错误\nTraceback:\n",
      "1. install.packages(\"keras\")",
      "2. available.packages(contriburl = contrib.url(repos, type2), method = method, \n .     ...)",
      "3. readRDS(dest)"
     ]
    }
   ],
   "source": [
    "install.packages(\"keras\")\n",
    "reticulate::install_miniconda()\n",
    "\n",
    "keras::install_keras(pip_ignore_installed = TRUE)"
   ]
  },
  {
   "cell_type": "code",
   "execution_count": 8,
   "metadata": {},
   "outputs": [
    {
     "name": "stderr",
     "output_type": "stream",
     "text": [
      "从‘/Library/Frameworks/R.framework/Versions/4.1/Resources/library’中删除程序包\n",
      "(因为没有指定‘lib’)\n",
      "\n"
     ]
    }
   ],
   "source": [
    "remove.packages(\"keras\")"
   ]
  },
  {
   "cell_type": "code",
   "execution_count": 9,
   "metadata": {},
   "outputs": [
    {
     "name": "stderr",
     "output_type": "stream",
     "text": [
      "从‘/Library/Frameworks/R.framework/Versions/4.1/Resources/library’中删除程序包\n",
      "(因为没有指定‘lib’)\n",
      "\n"
     ]
    }
   ],
   "source": [
    "remove.packages(\"tensorflow\")"
   ]
  },
  {
   "cell_type": "code",
   "execution_count": 10,
   "metadata": {},
   "outputs": [
    {
     "name": "stdout",
     "output_type": "stream",
     "text": [
      "Using Python: /Users/ShuyanLi/anaconda3/bin/python3.7\n",
      "Creating virtual environment 'TF2R' ... Done!\n",
      "Installing packages: 'pip', 'wheel', 'setuptools', 'numpy'\n",
      "Virtual environment 'TF2R' successfully created.\n",
      "Using virtual environment 'TF2R' ...\n"
     ]
    },
    {
     "ename": "ERROR",
     "evalue": "Error: Error installing package(s): \"'tensorflow==2.2.0.*'\"\n",
     "output_type": "error",
     "traceback": [
      "Error: Error installing package(s): \"'tensorflow==2.2.0.*'\"\nTraceback:\n",
      "1. install_tensorflow(envname = \"TF2R\", version = \"2.2.0\")",
      "2. reticulate::py_install(packages = packages, envname = envname, \n .     method = method, conda = conda, python_version = python_version, \n .     pip = TRUE, pip_ignore_installed = pip_ignore_installed, \n .     ...)",
      "3. virtualenv_install(envname = envname, packages = packages, ignore_installed = pip_ignore_installed, \n .     ...)",
      "4. pip_install(python, packages, ignore_installed = ignore_installed, \n .     pip_options = pip_options)",
      "5. stop(msg, call. = FALSE)"
     ]
    }
   ],
   "source": [
    "library(tensorflow)\n",
    "install_tensorflow(envname = \"TF2R\",version =  \"2.2.0\")\n",
    "\n",
    "\n",
    "library(keras)\n",
    "library(reticulate)\n",
    "conda_python(envname = \"TF2R\")\n",
    "install_keras(method = \"conda\" ,envname = \"TF2R\") #, tensorflow = \"gpu\")"
   ]
  },
  {
   "cell_type": "code",
   "execution_count": 11,
   "metadata": {},
   "outputs": [
    {
     "name": "stderr",
     "output_type": "stream",
     "text": [
      "Downloading GitHub repo rstudio/tensorflow@HEAD\n",
      "\n"
     ]
    },
    {
     "name": "stdout",
     "output_type": "stream",
     "text": [
      "\n",
      "\u001b[32m✔\u001b[39m  \u001b[90mchecking for file ‘/private/var/folders/96/8xv25c293q76pbwvkn6_dcn40000gn/T/Rtmpnon5GE/remotes61e5a1ef2ea/rstudio-tensorflow-1e4ea10/DESCRIPTION’\u001b[39m\u001b[36m\u001b[39m\n",
      "\u001b[90m─\u001b[39m\u001b[90m  \u001b[39m\u001b[90mpreparing ‘tensorflow’:\u001b[39m\u001b[36m\u001b[39m\n",
      "\u001b[32m✔\u001b[39m  \u001b[90mchecking DESCRIPTION meta-information\u001b[39m\u001b[36m\u001b[39m\n",
      "\u001b[90m─\u001b[39m\u001b[90m  \u001b[39m\u001b[90mchecking for LF line-endings in source and make files and shell scripts\u001b[39m\u001b[36m\u001b[39m\n",
      "\u001b[90m─\u001b[39m\u001b[90m  \u001b[39m\u001b[90mchecking for empty or unneeded directories\u001b[39m\u001b[36m\u001b[39m\n",
      "\u001b[90m─\u001b[39m\u001b[90m  \u001b[39m\u001b[90mbuilding ‘tensorflow_2.8.0.9000.tar.gz’\u001b[39m\u001b[36m\u001b[39m\n",
      "   \n",
      "\r"
     ]
    }
   ],
   "source": [
    "devtools::install_github(\"rstudio/tensorflow\")"
   ]
  },
  {
   "cell_type": "code",
   "execution_count": 12,
   "metadata": {},
   "outputs": [
    {
     "name": "stderr",
     "output_type": "stream",
     "text": [
      "Downloading GitHub repo rstudio/keras@HEAD\n",
      "\n"
     ]
    },
    {
     "name": "stdout",
     "output_type": "stream",
     "text": [
      "\n",
      "\u001b[32m✔\u001b[39m  \u001b[90mchecking for file ‘/private/var/folders/96/8xv25c293q76pbwvkn6_dcn40000gn/T/Rtmpnon5GE/remotes61e5fd3560e/rstudio-keras-171277b/DESCRIPTION’\u001b[39m\u001b[36m\u001b[39m\n",
      "\u001b[90m─\u001b[39m\u001b[90m  \u001b[39m\u001b[90mpreparing ‘keras’:\u001b[39m\u001b[36m\u001b[36m (857ms)\u001b[36m\u001b[39m\n",
      "\u001b[32m✔\u001b[39m  \u001b[90mchecking DESCRIPTION meta-information\u001b[39m\u001b[36m\u001b[39m\n",
      "\u001b[90m─\u001b[39m\u001b[90m  \u001b[39m\u001b[90mchecking for LF line-endings in source and make files and shell scripts\u001b[39m\u001b[36m\u001b[36m (819ms)\u001b[36m\u001b[39m\n",
      "\u001b[90m─\u001b[39m\u001b[90m  \u001b[39m\u001b[90mchecking for empty or unneeded directories\u001b[39m\u001b[36m\u001b[39m\n",
      "   Removed empty directory ‘keras/man-roxygen’\n",
      "\u001b[90m─\u001b[39m\u001b[90m  \u001b[39m\u001b[90mbuilding ‘keras_2.8.0.9000.tar.gz’\u001b[39m\u001b[36m\u001b[39m\n",
      "   \n",
      "\r"
     ]
    }
   ],
   "source": [
    "devtools::install_github(\"rstudio/keras\")"
   ]
  },
  {
   "cell_type": "code",
   "execution_count": 13,
   "metadata": {},
   "outputs": [
    {
     "name": "stdout",
     "output_type": "stream",
     "text": [
      "\n",
      "Installation complete.\n",
      "\n"
     ]
    },
    {
     "data": {
      "text/plain": [
       "TensorFlow v2.8.0 (~/anaconda3/lib/python3.7/site-packages/tensorflow)\n",
       "Python v3.7 (~/anaconda3/bin/python3)"
      ]
     },
     "metadata": {},
     "output_type": "display_data"
    }
   ],
   "source": [
    "tensorflow::install_tensorflow()\n",
    "tensorflow::tf_config()"
   ]
  },
  {
   "cell_type": "code",
   "execution_count": 13,
   "metadata": {},
   "outputs": [
    {
     "name": "stdout",
     "output_type": "stream",
     "text": [
      "\n",
      "Installation complete.\n",
      "\n"
     ]
    },
    {
     "data": {
      "text/plain": [
       "TensorFlow v2.8.0 (~/anaconda3/lib/python3.7/site-packages/tensorflow)\n",
       "Python v3.7 (~/anaconda3/bin/python3)"
      ]
     },
     "metadata": {},
     "output_type": "display_data"
    }
   ],
   "source": [
    "tensorflow::install_tensorflow()\n",
    "tensorflow::tf_config()"
   ]
  }
 ],
 "metadata": {
  "kernelspec": {
   "display_name": "R",
   "language": "R",
   "name": "ir"
  },
  "language_info": {
   "codemirror_mode": "r",
   "file_extension": ".r",
   "mimetype": "text/x-r-source",
   "name": "R",
   "pygments_lexer": "r",
   "version": "4.1.2"
  }
 },
 "nbformat": 4,
 "nbformat_minor": 2
}
